{
 "cells": [
  {
   "cell_type": "code",
   "execution_count": 1,
   "metadata": {
    "slideshow": {
     "slide_type": "-"
    }
   },
   "outputs": [],
   "source": [
    "from pingpongthread import PingPongThread\n",
    "import time"
   ]
  },
  {
   "cell_type": "code",
   "execution_count": 2,
   "metadata": {},
   "outputs": [
    {
     "name": "stdout",
     "output_type": "stream",
     "text": [
      "Found device: USB 직렬 장치(COM6)\n"
     ]
    }
   ],
   "source": [
    "# 1개 로봇을 연결하는 인스턴스 생성.\n",
    "PingPong = PingPongThread(number=1, group_id=46)                                         "
   ]
  },
  {
   "cell_type": "code",
   "execution_count": 3,
   "metadata": {},
   "outputs": [
    {
     "name": "stdout",
     "output_type": "stream",
     "text": [
      "Serial connected.Write data: DD DD 46 DD 00 00 DA 00 0B 00 00\n",
      "\n",
      "Connected with a master robot.\n",
      "Fully connected.\n"
     ]
    }
   ],
   "source": [
    "# 로봇 제어 스레드 시작.\n",
    "PingPong.start()\n",
    "# 모든 로봇이 연결될 때 까지 기다림.\n",
    "PingPong.wait_until_full_connect() "
   ]
  },
  {
   "cell_type": "code",
   "execution_count": 15,
   "metadata": {},
   "outputs": [
    {
     "name": "stdout",
     "output_type": "stream",
     "text": [
      "Write data: FF FF 46 00 00 C8 B8 00 0B 32 01\n"
     ]
    }
   ],
   "source": [
    "# 핑퐁 센서 수신 설정\n",
    "PingPong.receive_sensor_data(1, method=\"periodic\", period=0.5)"
   ]
  },
  {
   "cell_type": "code",
   "execution_count": 16,
   "metadata": {},
   "outputs": [
    {
     "name": "stdout",
     "output_type": "stream",
     "text": [
      "73\n",
      "73\n",
      "73\n",
      "72\n",
      "73\n",
      "66\n",
      "66\n",
      "79\n",
      "84\n",
      "138\n",
      "235\n",
      "82\n",
      "83\n",
      "76\n",
      "76\n",
      "86\n",
      "136\n"
     ]
    }
   ],
   "source": [
    "# 버튼을 누르지 않으면 계속 반복하기\n",
    "while not PingPong.get_current_button(1) == 1:\n",
    "    # 현재 근접 센서값 출력\n",
    "    print(PingPong.get_current_proxy(1))    \n",
    "    # 0.5초 기다리기\n",
    "    time.sleep(0.5)"
   ]
  },
  {
   "cell_type": "code",
   "execution_count": 19,
   "metadata": {},
   "outputs": [
    {
     "name": "stdout",
     "output_type": "stream",
     "text": [
      "76\n",
      "111\n",
      "멈춤!\n",
      "Write data: FF FF 46 00 10 00 C1 00 13 02 01 00 02 01 5E 00 00 01 F4\n",
      "Write data: FF FF 46 00 10 00 CC 00 0F 02 00 00 01 00 00\n",
      "Disconnected with a master robot.\n",
      "Reconnecting with serial...\n",
      "Found device: USB 직렬 장치(COM6)\n",
      "Write data: DD DD 46 DD 00 00 DA 00 0B 00 00\n",
      "Serial disconnected. Sleep 3 seconds.\n",
      "Found device: USB 직렬 장치(COM6)\n",
      "Write data: DD DD 46 DD 00 00 DA 00 0B 00 00\n",
      "Serial disconnected. Sleep 3 seconds.\n",
      "Device not found. Please connect the BluetoothUSB, or shut down other port connected program.\n",
      "Reconnecting serial...\n",
      "Found device: USB 직렬 장치(COM6)\n",
      "Write data: DD DD 46 DD 00 00 DA 00 0B 00 00\n",
      "Serial disconnected. Sleep 3 seconds.\n",
      "Device not found. Please connect the BluetoothUSB, or shut down other port connected program.\n",
      "Reconnecting serial...\n",
      "Found device: USB 직렬 장치(COM6)\n",
      "Write data: DD DD 46 DD 00 00 DA 00 0B 00 00\n",
      "Serial disconnected. Sleep 3 seconds.\n",
      "Device not found. Please connect the BluetoothUSB, or shut down other port connected program.\n",
      "Reconnecting serial...\n",
      "Found device: USB 직렬 장치(COM6)\n",
      "Write data: DD DD 46 DD 00 00 DA 00 0B 00 00\n",
      "Connected with a master robot.\n",
      "Fully connected.\n",
      "Disconnected with a master robot.\n",
      "Reconnecting with serial...\n",
      "Found device: USB 직렬 장치(COM6)\n",
      "Write data: DD DD 46 DD 00 00 DA 00 0B 00 00\n"
     ]
    }
   ],
   "source": [
    "#2.모터가 반시계방향으로 회전하다가 장애물을 감지하면 멈추기\n",
    "while True:\n",
    "    # 현재 근접 센서값 출력\n",
    "    print(PingPong.get_current_proxy(1))  \n",
    "    # 적외선 센서 값이 180보다 클 때\n",
    "    if PingPong.get_current_proxy(1) > 100 : \n",
    "        print(\"멈춤!\") # \"멈춤!\"하고 출력하기\n",
    "        PingPong.run_motor_step(1,4,0.25)\n",
    "        time.sleep(0.25/4*60)\n",
    "        break         # while 반복문 끝내기\n",
    "    time.sleep(0.5)   # 0.5초 기다리기\n",
    "PingPong.run_motor(1,0)"
   ]
  },
  {
   "cell_type": "code",
   "execution_count": 14,
   "metadata": {
    "scrolled": true
   },
   "outputs": [
    {
     "ename": "ValueError",
     "evalue": "Cannot set get_sensor mode as \"stop\", if the current get_sensor mode is not \"periodic\".",
     "output_type": "error",
     "traceback": [
      "\u001b[1;31m---------------------------------------------------------------------------\u001b[0m",
      "\u001b[1;31mValueError\u001b[0m                                Traceback (most recent call last)",
      "\u001b[1;32m<ipython-input-14-5fdb29325d05>\u001b[0m in \u001b[0;36m<module>\u001b[1;34m\u001b[0m\n\u001b[0;32m      1\u001b[0m \u001b[1;31m# 센서값 수신 종료\u001b[0m\u001b[1;33m\u001b[0m\u001b[1;33m\u001b[0m\u001b[0m\n\u001b[1;32m----> 2\u001b[1;33m \u001b[0mPingPong\u001b[0m\u001b[1;33m.\u001b[0m\u001b[0mstop_sensor_data\u001b[0m\u001b[1;33m(\u001b[0m\u001b[1;36m1\u001b[0m\u001b[1;33m)\u001b[0m\u001b[1;33m\u001b[0m\u001b[0m\n\u001b[0m",
      "\u001b[1;32m~\\OneDrive\\바탕 화면\\Pingpong파이썬_소스코드\\PingPong_standard\\operations\\cube\\cubeoperation.py\u001b[0m in \u001b[0;36mstop_sensor_data\u001b[1;34m(self, cube_ID, group_id)\u001b[0m\n\u001b[0;32m     48\u001b[0m     \u001b[1;31m### 센서 데이터 끄기\u001b[0m\u001b[1;33m\u001b[0m\u001b[1;33m\u001b[0m\u001b[0m\n\u001b[0;32m     49\u001b[0m     \u001b[1;32mdef\u001b[0m \u001b[0mstop_sensor_data\u001b[0m\u001b[1;33m(\u001b[0m\u001b[0mself\u001b[0m\u001b[1;33m,\u001b[0m \u001b[0mcube_ID\u001b[0m\u001b[1;33m,\u001b[0m \u001b[0mgroup_id\u001b[0m\u001b[1;33m=\u001b[0m\u001b[1;32mNone\u001b[0m\u001b[1;33m)\u001b[0m\u001b[1;33m:\u001b[0m\u001b[1;33m\u001b[0m\u001b[0m\n\u001b[1;32m---> 50\u001b[1;33m         \u001b[0mself\u001b[0m\u001b[1;33m.\u001b[0m\u001b[0mreceive_sensor_data\u001b[0m\u001b[1;33m(\u001b[0m\u001b[0mcube_ID\u001b[0m\u001b[1;33m,\u001b[0m \u001b[1;34m\"stop\"\u001b[0m\u001b[1;33m,\u001b[0m \u001b[1;36m1\u001b[0m\u001b[1;33m,\u001b[0m \u001b[0mgroup_id\u001b[0m\u001b[1;33m)\u001b[0m\u001b[1;33m\u001b[0m\u001b[0m\n\u001b[0m\u001b[0;32m     51\u001b[0m \u001b[1;33m\u001b[0m\u001b[0m\n\u001b[0;32m     52\u001b[0m     \u001b[1;31m### 현재 proximity 값 얻기 (robot_status로 부터)\u001b[0m\u001b[1;33m\u001b[0m\u001b[1;33m\u001b[0m\u001b[0m\n",
      "\u001b[1;32m~\\OneDrive\\바탕 화면\\Pingpong파이썬_소스코드\\PingPong_standard\\operations\\cube\\cubeoperation.py\u001b[0m in \u001b[0;36mreceive_sensor_data\u001b[1;34m(self, cube_ID, method, period, group_id)\u001b[0m\n\u001b[0;32m     37\u001b[0m         \u001b[0mcube_ID\u001b[0m \u001b[1;33m=\u001b[0m \u001b[0mCubeOperationUtils\u001b[0m\u001b[1;33m(\u001b[0m\u001b[1;33m)\u001b[0m\u001b[1;33m.\u001b[0m\u001b[0mprocess_cube_ID\u001b[0m\u001b[1;33m(\u001b[0m\u001b[0mcube_ID\u001b[0m\u001b[1;33m,\u001b[0m \u001b[0mconnection_number\u001b[0m\u001b[1;33m)\u001b[0m\u001b[1;33m\u001b[0m\u001b[0m\n\u001b[0;32m     38\u001b[0m         \u001b[1;31m### method 체크 (str, \"oneshot\", \"periodic\", \"stop\")\u001b[0m\u001b[1;33m\u001b[0m\u001b[1;33m\u001b[0m\u001b[0m\n\u001b[1;32m---> 39\u001b[1;33m         \u001b[0mCubeOperationUtils\u001b[0m\u001b[1;33m(\u001b[0m\u001b[1;33m)\u001b[0m\u001b[1;33m.\u001b[0m\u001b[0mcheck_method\u001b[0m\u001b[1;33m(\u001b[0m\u001b[0mmethod\u001b[0m\u001b[1;33m,\u001b[0m \u001b[0mcube_ID\u001b[0m\u001b[1;33m,\u001b[0m \u001b[0mgroup_id\u001b[0m\u001b[1;33m,\u001b[0m \u001b[0mself\u001b[0m\u001b[1;33m.\u001b[0m\u001b[0m_get_robot_status\u001b[0m\u001b[1;33m,\u001b[0m \u001b[0mself\u001b[0m\u001b[1;33m.\u001b[0m\u001b[0m_set_robot_status\u001b[0m\u001b[1;33m)\u001b[0m\u001b[1;33m\u001b[0m\u001b[0m\n\u001b[0m\u001b[0;32m     40\u001b[0m         \u001b[1;31m### period 체크 & 처리 (int or float, 0.01 to 1 (sec))\u001b[0m\u001b[1;33m\u001b[0m\u001b[1;33m\u001b[0m\u001b[0m\n\u001b[0;32m     41\u001b[0m         \u001b[0mperiod\u001b[0m \u001b[1;33m=\u001b[0m \u001b[0mCubeOperationUtils\u001b[0m\u001b[1;33m(\u001b[0m\u001b[1;33m)\u001b[0m\u001b[1;33m.\u001b[0m\u001b[0mprocess_period\u001b[0m\u001b[1;33m(\u001b[0m\u001b[0mmethod\u001b[0m\u001b[1;33m,\u001b[0m \u001b[0mperiod\u001b[0m\u001b[1;33m)\u001b[0m\u001b[1;33m\u001b[0m\u001b[0m\n",
      "\u001b[1;32m~\\OneDrive\\바탕 화면\\Pingpong파이썬_소스코드\\PingPong_standard\\operations\\cube\\cubeoperationutils.py\u001b[0m in \u001b[0;36mcheck_method\u001b[1;34m(self, method, cube_ID, group_id, get_robot_status, set_robot_status)\u001b[0m\n\u001b[0;32m     69\u001b[0m                     \u001b[0mprev_mode\u001b[0m \u001b[1;33m=\u001b[0m \u001b[0mget_robot_status\u001b[0m\u001b[1;33m(\u001b[0m\u001b[0mgroup_id\u001b[0m\u001b[1;33m,\u001b[0m \u001b[1;34m\"controller_status\"\u001b[0m\u001b[1;33m,\u001b[0m \u001b[1;34m\"get_sensor_mode[{}]\"\u001b[0m\u001b[1;33m.\u001b[0m\u001b[0mformat\u001b[0m\u001b[1;33m(\u001b[0m\u001b[0mcube_ID\u001b[0m\u001b[1;33m)\u001b[0m\u001b[1;33m)\u001b[0m\u001b[1;33m\u001b[0m\u001b[0m\n\u001b[0;32m     70\u001b[0m                     \u001b[1;32mif\u001b[0m \u001b[0mprev_mode\u001b[0m \u001b[1;33m!=\u001b[0m \u001b[1;34m\"periodic\"\u001b[0m\u001b[1;33m:\u001b[0m\u001b[1;33m\u001b[0m\u001b[0m\n\u001b[1;32m---> 71\u001b[1;33m                         \u001b[1;32mraise\u001b[0m \u001b[0mValueError\u001b[0m\u001b[1;33m(\u001b[0m\u001b[1;34m\"Cannot set get_sensor mode as \\\"stop\\\", if the current get_sensor mode is not \\\"periodic\\\".\"\u001b[0m\u001b[1;33m)\u001b[0m\u001b[1;33m\u001b[0m\u001b[0m\n\u001b[0m\u001b[0;32m     72\u001b[0m                     \u001b[1;32melse\u001b[0m\u001b[1;33m:\u001b[0m\u001b[1;33m\u001b[0m\u001b[0m\n\u001b[0;32m     73\u001b[0m                         \u001b[0mset_robot_status\u001b[0m\u001b[1;33m(\u001b[0m\u001b[0mgroup_id\u001b[0m\u001b[1;33m,\u001b[0m \u001b[1;34m\"controller_status\"\u001b[0m\u001b[1;33m,\u001b[0m \u001b[1;34m\"get_sensor_mode[{}]\"\u001b[0m\u001b[1;33m.\u001b[0m\u001b[0mformat\u001b[0m\u001b[1;33m(\u001b[0m\u001b[0mcube_ID\u001b[0m\u001b[1;33m)\u001b[0m\u001b[1;33m,\u001b[0m \u001b[1;34m\"\\\"oneshot\\\"\"\u001b[0m\u001b[1;33m)\u001b[0m\u001b[1;33m\u001b[0m\u001b[0m\n",
      "\u001b[1;31mValueError\u001b[0m: Cannot set get_sensor mode as \"stop\", if the current get_sensor mode is not \"periodic\"."
     ]
    }
   ],
   "source": [
    "# 센서값 수신 종료\n",
    "PingPong.stop_sensor_data(1)"
   ]
  },
  {
   "cell_type": "code",
   "execution_count": null,
   "metadata": {},
   "outputs": [],
   "source": [
    "#로봇 제어 스레드 종료\n",
    "PingPong.end()"
   ]
  },
  {
   "cell_type": "code",
   "execution_count": null,
   "metadata": {},
   "outputs": [],
   "source": []
  }
 ],
 "metadata": {
  "kernelspec": {
   "display_name": "Python 3",
   "language": "python",
   "name": "python3"
  },
  "language_info": {
   "codemirror_mode": {
    "name": "ipython",
    "version": 3
   },
   "file_extension": ".py",
   "mimetype": "text/x-python",
   "name": "python",
   "nbconvert_exporter": "python",
   "pygments_lexer": "ipython3",
   "version": "3.6.6"
  }
 },
 "nbformat": 4,
 "nbformat_minor": 5
}
