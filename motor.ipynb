{
 "cells": [
  {
   "cell_type": "code",
   "execution_count": 1,
   "metadata": {
    "slideshow": {
     "slide_type": "-"
    }
   },
   "outputs": [],
   "source": [
    "from pingpongthread import PingPongThread\n",
    "import time"
   ]
  },
  {
   "cell_type": "code",
   "execution_count": 2,
   "metadata": {},
   "outputs": [
    {
     "name": "stdout",
     "output_type": "stream",
     "text": [
      "Found device: USB 직렬 장치(COM5)\n"
     ]
    }
   ],
   "source": [
    "# 1개 로봇을 연결하는 인스턴스 생성.\n",
    "PingPong = PingPongThread(number=1, group_id=45)  "
   ]
  },
  {
   "cell_type": "code",
   "execution_count": 3,
   "metadata": {},
   "outputs": [
    {
     "name": "stdout",
     "output_type": "stream",
     "text": [
      "Serial connected.Write data: DD DD 45 DD 00 00 DA 00 0B 00 00\n",
      "\n",
      "Connected with a master robot.\n",
      "Fully connected.\n"
     ]
    }
   ],
   "source": [
    "# 로봇 제어 스레드 시작.\n",
    "PingPong.start()\n",
    "# 모든 로봇이 연결될 때 까지 기다림.\n",
    "PingPong.wait_until_full_connect() "
   ]
  },
  {
   "cell_type": "code",
   "execution_count": 5,
   "metadata": {},
   "outputs": [
    {
     "name": "stdout",
     "output_type": "stream",
     "text": [
      "Write data: FF FF 45 00 10 00 C1 00 13 02 01 00 02 03 E8 00 00 01 F4\n"
     ]
    }
   ],
   "source": [
    "#시계방향으로 90도만큼 30rpm 속도로 움직이기\n",
    "PingPong.run_motor_step(1,30,90/360)\n",
    "#움직이는 시간동안 기다리기(스텝/속도*60)\n",
    "time.sleep(0.25/30*60)"
   ]
  },
  {
   "cell_type": "code",
   "execution_count": 6,
   "metadata": {},
   "outputs": [
    {
     "name": "stdout",
     "output_type": "stream",
     "text": [
      "Write data: FF FF 45 00 10 00 C1 00 13 02 01 00 02 FC 18 00 00 01 F4\n",
      "Write data: FF FF 45 00 10 00 C1 00 13 02 01 00 02 03 E8 00 00 01 F4\n",
      "Write data: FF FF 45 00 10 00 C1 00 13 02 01 00 02 FC 18 00 00 01 F4\n"
     ]
    }
   ],
   "source": [
    "#2.왼쪽,오른쪽으로 90도만큼 움직여서 손 흔들기\n",
    "#왼쪽으로 90도만큼 움직이기\n",
    "PingPong.run_motor_step(1,30,-90/360)\n",
    "time.sleep(0.25/30*60)\n",
    "#오른쪽으로 90도만큼 움직이기\n",
    "PingPong.run_motor_step(1,30,90/360)\n",
    "time.sleep(0.25/30*60)\n",
    "#왼쪽으로 90도만큼 움직이기\n",
    "PingPong.run_motor_step(1,30,-90/360)\n",
    "time.sleep(0.25/30*60)"
   ]
  },
  {
   "cell_type": "code",
   "execution_count": 7,
   "metadata": {},
   "outputs": [
    {
     "name": "stdout",
     "output_type": "stream",
     "text": [
      "Write data: FF FF FF FF 00 00 A8 00 0A 01\n",
      "Disconnect master robot.\n",
      "Serial disconnected. Sleep 3 seconds.\n",
      "End thread.\n"
     ]
    }
   ],
   "source": [
    "#로봇 제어 스레드 종료\n",
    "PingPong.end()"
   ]
  },
  {
   "cell_type": "code",
   "execution_count": null,
   "metadata": {},
   "outputs": [],
   "source": []
  }
 ],
 "metadata": {
  "kernelspec": {
   "display_name": "Python 3",
   "language": "python",
   "name": "python3"
  },
  "language_info": {
   "codemirror_mode": {
    "name": "ipython",
    "version": 3
   },
   "file_extension": ".py",
   "mimetype": "text/x-python",
   "name": "python",
   "nbconvert_exporter": "python",
   "pygments_lexer": "ipython3",
   "version": "3.6.6"
  }
 },
 "nbformat": 4,
 "nbformat_minor": 5
}
